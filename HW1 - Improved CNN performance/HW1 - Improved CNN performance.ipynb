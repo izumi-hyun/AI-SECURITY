{
 "cells": [
  {
   "cell_type": "markdown",
   "metadata": {
    "id": "Th9iUWZldgnN"
   },
   "source": [
    "### Import Modules"
   ]
  },
  {
   "cell_type": "code",
   "execution_count": 9,
   "metadata": {
    "executionInfo": {
     "elapsed": 517,
     "status": "ok",
     "timestamp": 1727259074819,
     "user": {
      "displayName": "Hyun",
      "userId": "03455063530033146689"
     },
     "user_tz": -540
    },
    "id": "gABvcozMdgnR"
   },
   "outputs": [],
   "source": [
    "# PyTorch 라이브러리를 임포트합니다.\n",
    "import torch  # 텐서 연산 및 자동 미분 기능을 제공하는 라이브러리\n",
    "\n",
    "# PyTorch의 신경망 모듈을 임포트합니다.\n",
    "import torch.nn as nn  # 신경망 레이어 및 손실 함수를 포함하여 모델을 구축하는 데 사용\n",
    "\n",
    "# 데이터 시각화를 위한 matplotlib 라이브러리를 임포트합니다.\n",
    "import matplotlib.pyplot as plt  # 그래프 및 플롯을 그려 데이터 시각화를 지원\n",
    "\n",
    "# torchvision 라이브러리에서 데이터셋과 변환 기능을 임포트합니다.\n",
    "from torchvision import datasets, transforms  # 다양한 표준 데이터셋과 이미지 변환 기능 제공\n",
    "\n",
    "# 데이터셋을 관리하고 로드하기 위한 유틸리티를 임포트합니다.\n",
    "from torch.utils.data import Dataset, ConcatDataset, DataLoader  # 데이터셋 클래스 생성 및 배치 단위 데이터 로드를 지원\n",
    "\n",
    "# torchvision에서 사전 훈련된 모델 아키텍처를 임포트합니다.\n",
    "import torchvision.models as models  # ResNet, VGG 등 다양한 사전 훈련된 모델을 쉽게 사용할 수 있게 해줌"
   ]
  },
  {
   "cell_type": "markdown",
   "metadata": {
    "id": "ZinT0uHudgnS"
   },
   "source": [
    "### Load Dataset"
   ]
  },
  {
   "cell_type": "code",
   "execution_count": 10,
   "metadata": {
    "executionInfo": {
     "elapsed": 2,
     "status": "ok",
     "timestamp": 1727259075188,
     "user": {
      "displayName": "Hyun",
      "userId": "03455063530033146689"
     },
     "user_tz": -540
    },
    "id": "3IJJzRuPdgnT"
   },
   "outputs": [],
   "source": [
    "# CIFAR-10 데이터셋을 로드하는 함수 정의\n",
    "def load_CIFAR10(root_dataset, batch_size, width=32, height=32):\n",
    "    # CIFAR-10 데이터셋의 RGB 채널 평균과 표준편차 정의\n",
    "    mean = [0.4914, 0.4822, 0.4465]  # 이미지의 평균 색상 값\n",
    "    std = [0.2023, 0.1994, 0.2010]    # 이미지의 표준편차 값\n",
    "\n",
    "    # 훈련 데이터에 대한 변환 작업 정의\n",
    "    image_transform = transforms.Compose([\n",
    "        transforms.RandomCrop(32, padding=4),  # 32x32 크기로 랜덤하게 크롭하고 4픽셀 패딩 추가\n",
    "        transforms.RandomHorizontalFlip(),      # 50% 확률로 이미지를 수평으로 반전\n",
    "        transforms.ToTensor(),                  # 이미지를 PyTorch 텐서로 변환\n",
    "        transforms.Normalize(mean, std),        # 평균과 표준편차로 정규화하여 데이터의 분포를 맞춤\n",
    "        transforms.RandomErasing(p=0.5)        # 50% 확률로 이미지의 랜덤 부분을 지우는 데이터 증강 기법\n",
    "    ])\n",
    "\n",
    "    # 테스트 데이터에 대한 변환 작업 정의\n",
    "    image_transform_test = transforms.Compose([\n",
    "        transforms.Resize((width, height)),     # 지정된 크기(width, height)로 이미지 크기 조정\n",
    "        transforms.ToTensor(),                   # 이미지를 PyTorch 텐서로 변환\n",
    "        transforms.Normalize(mean, std),         # 평균과 표준편차로 정규화하여 데이터의 분포를 맞춤\n",
    "    ])\n",
    "\n",
    "    # CIFAR-10 훈련 데이터셋 다운로드 및 로드\n",
    "    train_cifar10 = datasets.CIFAR10(root=root_dataset, train=True, download=True, transform=image_transform)\n",
    "    # CIFAR-10 테스트 데이터셋 다운로드 및 로드\n",
    "    test_cifar10 = datasets.CIFAR10(root=root_dataset, train=False, download=True, transform=image_transform_test)\n",
    "\n",
    "    # DataLoader 생성하여 배치 단위로 데이터 로드 설정\n",
    "    train_cifar10_loader = DataLoader(dataset=train_cifar10, batch_size=batch_size, shuffle=True, num_workers=4)\n",
    "    test_cifar10_loader = DataLoader(dataset=test_cifar10, batch_size=batch_size, shuffle=False, num_workers=4)\n",
    "\n",
    "    # CIFAR-10 데이터셋의 클래스 수 반환 (CIFAR-10은 총 10개 클래스)\n",
    "    nb_classes_cifar10 = len(test_cifar10.classes)\n",
    "\n",
    "    # 훈련 데이터 로더, 테스트 데이터 로더, 클래스 수를 반환\n",
    "    return train_cifar10_loader, test_cifar10_loader, nb_classes_cifar10\n"
   ]
  },
  {
   "cell_type": "markdown",
   "metadata": {
    "id": "90R-kjXCdgnT"
   },
   "source": [
    "### Define Model Architecture"
   ]
  },
  {
   "cell_type": "code",
   "execution_count": 11,
   "metadata": {
    "executionInfo": {
     "elapsed": 2,
     "status": "ok",
     "timestamp": 1727259075188,
     "user": {
      "displayName": "Hyun",
      "userId": "03455063530033146689"
     },
     "user_tz": -540
    },
    "id": "-kRl-xSkdgnT"
   },
   "outputs": [],
   "source": [
    "# ResNet-50 사전 학습된 모델을 불러오는 함수 정의\n",
    "def resnet50_pretrained(num_classes):\n",
    "    # ImageNet 데이터로 사전 학습된 ResNet-50 모델을 로드합니다.\n",
    "    model = models.resnet50(weights='IMAGENET1K_V1')\n",
    "\n",
    "    # CIFAR-10 데이터셋의 이미지 크기는 32x32이므로,\n",
    "    # 첫 번째 합성곱 레이어를 수정하여 입력 이미지 크기에 맞춥니다.\n",
    "    model.conv1 = nn.Conv2d(3, 64, kernel_size=3, stride=1, padding=1, bias=False)\n",
    "\n",
    "    # ResNet-50의 기본 구조에서 맥스풀링 레이어를 제거합니다.\n",
    "    # 'nn.Identity()'를 사용해 해당 레이어를 대체하여 기능적으로 아무 변화도 없도록 합니다.\n",
    "    model.maxpool = nn.Identity()\n",
    "\n",
    "    # Fully connected 레이어를 수정합니다.\n",
    "    # 드롭아웃을 추가하여 과적합을 방지하고, 클래스 수에 맞게 출력층을 조정합니다.\n",
    "    model.fc = nn.Sequential(\n",
    "        nn.Dropout(0.5),  # 드롭아웃 비율을 50%로 설정\n",
    "        nn.Linear(model.fc.in_features, num_classes)  # 출력층의 입력 특성 수를 CIFAR-10의 클래스 수에 맞게 조정\n",
    "    )\n",
    "\n",
    "    # 수정된 모델을 반환합니다.\n",
    "    return model"
   ]
  },
  {
   "cell_type": "markdown",
   "metadata": {
    "id": "zw2pgmFBdgnT"
   },
   "source": [
    "### Training Function"
   ]
  },
  {
   "cell_type": "code",
   "execution_count": 12,
   "metadata": {
    "executionInfo": {
     "elapsed": 2,
     "status": "ok",
     "timestamp": 1727259075188,
     "user": {
      "displayName": "Hyun",
      "userId": "03455063530033146689"
     },
     "user_tz": -540
    },
    "id": "b0ANxjEndgnU"
   },
   "outputs": [],
   "source": [
    "# 트레이닝 함수를 정의합니다.\n",
    "def train(device, model, train_loader, criterion, optimizer):\n",
    "    model.train()  # 모델을 훈련 모드로 설정하여 드롭아웃과 배치 정규화가 훈련 모드로 작동하도록 함\n",
    "    train_loss = 0  # 훈련 손실을 초기화하는 변수\n",
    "\n",
    "    # 배치 단위로 데이터셋을 반복합니다.\n",
    "    for x, y in train_loader:\n",
    "        optimizer.zero_grad()  # 이전 배치의 기울기를 초기화하여 누적되지 않도록 함\n",
    "        x = x.to(device)  # 입력 데이터(x)를 지정된 장치(GPU 또는 CPU)로 이동\n",
    "        y = y.to(device)  # 레이블(y)을 지정된 장치로 이동\n",
    "\n",
    "        output = model(x)  # 모델에 입력 데이터를 통과시켜 예측값(output)을 생성\n",
    "        loss = criterion(output, y)  # 예측값과 실제 레이블을 비교하여 손실(loss) 계산\n",
    "\n",
    "        loss.backward()  # 손실에 대한 기울기를 계산하여 모델의 가중치에 대한 기울기를 업데이트\n",
    "        optimizer.step()  # 옵티마이저를 통해 가중치를 업데이트\n",
    "\n",
    "        train_loss += loss.item()  # 현재 배치의 손실을 누적하여 전체 손실에 더함\n",
    "\n",
    "    train_loss /= len(train_loader)  # 전체 배치 수로 나누어 평균 손실을 계산\n",
    "    return train_loss  # 계산된 평균 훈련 손실을 반환"
   ]
  },
  {
   "cell_type": "markdown",
   "metadata": {
    "id": "P0Jit-NedgnU"
   },
   "source": [
    "### Test Function"
   ]
  },
  {
   "cell_type": "code",
   "execution_count": 13,
   "metadata": {
    "executionInfo": {
     "elapsed": 1,
     "status": "ok",
     "timestamp": 1727259075188,
     "user": {
      "displayName": "Hyun",
      "userId": "03455063530033146689"
     },
     "user_tz": -540
    },
    "id": "x78NHa4jdgnU"
   },
   "outputs": [],
   "source": [
    "# 모델을 검증하는 함수를 정의합니다.\n",
    "def validate(device, model, test_loader, criterion):\n",
    "    model.eval()  # 모델을 평가 모드로 설정하여 드롭아웃과 배치 정규화가 평가 모드로 작동하도록 함\n",
    "\n",
    "    test_loss = 0  # 테스트 손실을 초기화하는 변수\n",
    "    test_acc = 0  # 테스트 정확도를 초기화하는 변수\n",
    "\n",
    "    with torch.no_grad():  # 기울기 계산을 비활성화하여 메모리 사용량을 줄이고 연산 속도를 높임\n",
    "        # 배치 단위로 테스트 데이터셋을 반복합니다.\n",
    "        for x, y in test_loader:\n",
    "            x = x.to(device)  # 입력 데이터(x)를 지정된 장치(GPU 또는 CPU)로 이동\n",
    "            y = y.to(device)  # 레이블(y)을 지정된 장치로 이동\n",
    "\n",
    "            output = model(x)  # 모델에 입력 데이터를 통과시켜 예측값(output)을 생성\n",
    "            loss = criterion(output, y)  # 예측값과 실제 레이블을 비교하여 손실(loss) 계산\n",
    "\n",
    "            # 예측값 중 최댓값의 인덱스를 추출하여 최종 예측 클래스를 결정\n",
    "            _, pred = torch.max(output, 1)  # 각 배치의 예측 결과에서 가장 높은 확률을 가진 클래스 인덱스 추출\n",
    "\n",
    "            test_loss += loss.item()  # 현재 배치의 손실을 누적하여 전체 손실에 더함\n",
    "            test_acc += torch.sum(pred == y.data).item()  # 예측값과 실제 레이블이 일치하는 경우의 수를 누적하여 정확도 계산\n",
    "\n",
    "    test_loss /= len(test_loader)  # 전체 배치 수로 나누어 평균 테스트 손실을 계산\n",
    "    test_acc /= len(test_loader.dataset)  # 전체 데이터 수로 나누어 평균 테스트 정확도를 계산\n",
    "    return test_loss, test_acc  # 계산된 평균 테스트 손실과 정확도를 반환"
   ]
  },
  {
   "cell_type": "markdown",
   "metadata": {
    "id": "p1XM9AvwdgnV"
   },
   "source": [
    "### Main Function"
   ]
  },
  {
   "cell_type": "code",
   "execution_count": 14,
   "metadata": {
    "colab": {
     "base_uri": "https://localhost:8080/"
    },
    "executionInfo": {
     "elapsed": 502639,
     "status": "ok",
     "timestamp": 1727259577826,
     "user": {
      "displayName": "Hyun",
      "userId": "03455063530033146689"
     },
     "user_tz": -540
    },
    "id": "Avj_hiaJdgnV",
    "outputId": "00facac5-6705-4258-a413-54a667d20e21"
   },
   "outputs": [
    {
     "name": "stdout",
     "output_type": "stream",
     "text": [
      "Files already downloaded and verified\n",
      "Files already downloaded and verified\n"
     ]
    },
    {
     "name": "stderr",
     "output_type": "stream",
     "text": [
      "Downloading: \"https://download.pytorch.org/models/resnet50-0676ba61.pth\" to /root/.cache/torch/hub/checkpoints/resnet50-0676ba61.pth\n",
      "100%|██████████| 97.8M/97.8M [00:00<00:00, 190MB/s]\n"
     ]
    },
    {
     "name": "stdout",
     "output_type": "stream",
     "text": [
      "    1/   10: Train Loss [1.1747] / Test Loss [0.7891], Test Accuracy [88.10%]\n",
      "    2/   10: Train Loss [0.8671] / Test Loss [0.7053], Test Accuracy [91.57%]\n",
      "    3/   10: Train Loss [0.7908] / Test Loss [0.6824], Test Accuracy [92.49%]\n",
      "    4/   10: Train Loss [0.7399] / Test Loss [0.6458], Test Accuracy [94.17%]\n",
      "    5/   10: Train Loss [0.6981] / Test Loss [0.6263], Test Accuracy [95.09%]\n",
      "    6/   10: Train Loss [0.6653] / Test Loss [0.6161], Test Accuracy [95.22%]\n",
      "    7/   10: Train Loss [0.6325] / Test Loss [0.6051], Test Accuracy [95.89%]\n",
      "    8/   10: Train Loss [0.6073] / Test Loss [0.5920], Test Accuracy [96.53%]\n",
      "    9/   10: Train Loss [0.5937] / Test Loss [0.5859], Test Accuracy [96.53%]\n",
      "   10/   10: Train Loss [0.5830] / Test Loss [0.5837], Test Accuracy [96.75%]\n"
     ]
    }
   ],
   "source": [
    "if __name__ == '__main__':\n",
    "    # 장치 설정: GPU가 사용 가능한 경우 CUDA를 사용하고, 그렇지 않으면 CPU 사용\n",
    "    device = torch.device(\"cuda\" if torch.cuda.is_available() else \"cpu\")\n",
    "\n",
    "    # 하이퍼파라미터 설정\n",
    "    root_dataset = './cifar10'  # CIFAR-10 데이터셋 저장 경로\n",
    "    batch_size = 32  # 배치 사이즈를 32로 설정\n",
    "    learning_rate = 1e-4  # Adam 옵티마이저의 일반적인 학습률\n",
    "    epochs = 10  # 학습 에폭 수를 10으로 설정\n",
    "\n",
    "    # CIFAR-10 데이터 로드: 훈련 및 테스트 데이터 로더와 클래스 수 가져오기\n",
    "    train_cifar10_loader, test_cifar10_loader, nb_classes_cifar10 = load_CIFAR10(root_dataset, batch_size)\n",
    "\n",
    "    # 모델 불러오기: 사전 학습된 ResNet-50 모델을 가져오고 지정된 장치로 이동\n",
    "    model = resnet50_pretrained(nb_classes_cifar10).to(device)\n",
    "\n",
    "    # 손실 함수와 옵티마이저 설정\n",
    "    # 레이블 스무딩을 적용한 CrossEntropyLoss 사용\n",
    "    criterion = nn.CrossEntropyLoss(label_smoothing=0.1)  # 레이블 스무딩을 0.1로 설정하여 과적합 방지\n",
    "    optimizer = torch.optim.Adam(model.parameters(), lr=learning_rate, weight_decay=1e-4)  # Adam 옵티마이저 사용\n",
    "\n",
    "    # Cosine Annealing 학습률 스케줄러 설정\n",
    "    scheduler = torch.optim.lr_scheduler.CosineAnnealingLR(optimizer, T_max=epochs)  # 주기적으로 학습률을 조정\n",
    "\n",
    "    # 학습 로그 저장용 딕셔너리 초기화\n",
    "    train_log = {\n",
    "        'train_loss': [],  # 훈련 손실 기록\n",
    "        'test_loss': [],   # 테스트 손실 기록\n",
    "        'acc': []          # 정확도 기록\n",
    "    }\n",
    "\n",
    "    # 학습 과정 시작\n",
    "    for epoch in range(epochs):\n",
    "        # 한 에폭 동안 훈련 손실 계산\n",
    "        train_loss = train(device, model, train_cifar10_loader, criterion, optimizer)\n",
    "\n",
    "        # 검증 데이터셋에서 손실 및 정확도 계산\n",
    "        test_loss, test_acc = validate(device, model, test_cifar10_loader, criterion)\n",
    "\n",
    "        # 학습 로그에 현재 에폭의 손실 및 정확도 추가\n",
    "        train_log['train_loss'].append(train_loss)\n",
    "        train_log['test_loss'].append(test_loss)\n",
    "        train_log['acc'].append(test_acc)\n",
    "\n",
    "        # 학습률 스케줄러 업데이트\n",
    "        scheduler.step()\n",
    "\n",
    "        # 현재 에폭의 결과 출력\n",
    "        print(f'{epoch+1:5d}/{epochs:5d}: Train Loss [{train_loss:.4f}] / Test Loss [{test_loss:.4f}], Test Accuracy [{test_acc*100:.2f}%]')\n"
   ]
  },
  {
   "cell_type": "markdown",
   "metadata": {
    "id": "exxaggESdgnV"
   },
   "source": [
    "### Visuallization"
   ]
  },
  {
   "cell_type": "code",
   "execution_count": 15,
   "metadata": {
    "colab": {
     "base_uri": "https://localhost:8080/",
     "height": 472
    },
    "executionInfo": {
     "elapsed": 462,
     "status": "ok",
     "timestamp": 1727259578285,
     "user": {
      "displayName": "Hyun",
      "userId": "03455063530033146689"
     },
     "user_tz": -540
    },
    "id": "48QDToJZdgnW",
    "outputId": "d8368f2e-9e10-45c0-9575-da45ea4f350e"
   },
   "outputs": [
    {
     "data": {
      "image/png": "[encoded data removed]",
      "text/plain": [
       "<Figure size 640x480 with 1 Axes>"
      ]
     },
     "metadata": {},
     "output_type": "display_data"
    }
   ],
   "source": [
    "# 새로운 플롯을 생성합니다.\n",
    "plt.figure()\n",
    "\n",
    "# 그래프의 제목을 설정합니다.\n",
    "plt.title('Train Loss')\n",
    "\n",
    "# x축의 레이블을 설정합니다.\n",
    "plt.xlabel('Epoch')\n",
    "\n",
    "# y축의 레이블을 설정합니다.\n",
    "plt.ylabel('Loss')\n",
    "\n",
    "# 훈련 손실 데이터를 플롯합니다. 'train_log'에서 'train_loss'를 가져옵니다.\n",
    "plt.plot(train_log['train_loss'], label='Train')\n",
    "\n",
    "# 테스트 손실 데이터를 플롯합니다. 'train_log'에서 'test_loss'를 가져옵니다.\n",
    "plt.plot(train_log['test_loss'], label='Test')\n",
    "\n",
    "# 범례를 추가하여 각 선의 의미를 설명합니다.\n",
    "plt.legend()\n",
    "\n",
    "# 플롯을 화면에 표시합니다.\n",
    "plt.show()\n"
   ]
  },
  {
   "cell_type": "code",
   "execution_count": 16,
   "metadata": {
    "colab": {
     "base_uri": "https://localhost:8080/",
     "height": 472
    },
    "executionInfo": {
     "elapsed": 3,
     "status": "ok",
     "timestamp": 1727259578285,
     "user": {
      "displayName": "Hyun",
      "userId": "03455063530033146689"
     },
     "user_tz": -540
    },
    "id": "R8xP86j7dgnW",
    "outputId": "342c8806-49a5-4dd6-c0ba-8ad203b76802"
   },
   "outputs": [
    {
     "data": {
      "image/png": "[encoded data removed]",
      "text/plain": [
       "<Figure size 640x480 with 1 Axes>"
      ]
     },
     "metadata": {},
     "output_type": "display_data"
    }
   ],
   "source": [
    "# 새로운 플롯을 생성합니다.\n",
    "plt.figure()\n",
    "\n",
    "# 그래프의 제목을 설정합니다.\n",
    "plt.title('Test Accuracy')\n",
    "\n",
    "# x축의 레이블을 설정합니다.\n",
    "plt.xlabel('Epoch')\n",
    "\n",
    "# y축의 레이블을 설정합니다.\n",
    "plt.ylabel('Accuracy')\n",
    "\n",
    "# 테스트 정확도 데이터를 플롯합니다. 'train_log'에서 'acc'를 가져옵니다.\n",
    "plt.plot(train_log['acc'], label='Test')\n",
    "\n",
    "# 범례를 추가하여 선의 의미를 설명합니다.\n",
    "plt.legend()\n",
    "\n",
    "# 플롯을 화면에 표시합니다.\n",
    "plt.show()\n"
   ]
  }
 ],
 "metadata": {
  "accelerator": "GPU",
  "colab": {
   "gpuType": "A100",
   "machine_shape": "hm",
   "provenance": []
  },
  "kernelspec": {
   "display_name": "Python 3 (ipykernel)",
   "language": "python",
   "name": "python3"
  },
  "language_info": {
   "codemirror_mode": {
    "name": "ipython",
    "version": 3
   },
   "file_extension": ".py",
   "mimetype": "text/x-python",
   "name": "python",
   "nbconvert_exporter": "python",
   "pygments_lexer": "ipython3",
   "version": "3.12.4"
  }
 },
 "nbformat": 4,
 "nbformat_minor": 4
}
