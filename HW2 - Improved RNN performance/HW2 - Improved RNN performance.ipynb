{
 "cells": [
  {
   "cell_type": "markdown",
   "metadata": {
    "id": "PcIm4-pperqe"
   },
   "source": [
    "# 00. 개발 환경 설정"
   ]
  },
  {
   "cell_type": "markdown",
   "metadata": {
    "id": "oq3UTYbpfIWz"
   },
   "source": [
    "## 00-0. 필요 라이브러리 설치"
   ]
  },
  {
   "cell_type": "code",
   "execution_count": 1,
   "metadata": {
    "colab": {
     "base_uri": "https://localhost:8080/"
    },
    "executionInfo": {
     "elapsed": 2758,
     "status": "ok",
     "timestamp": 1728990725221,
     "user": {
      "displayName": "Hyun",
      "userId": "03455063530033146689"
     },
     "user_tz": -540
    },
    "id": "IlbI9lmLaYxV",
    "outputId": "31335067-c54d-47c1-fba7-f369741d7657"
   },
   "outputs": [
    {
     "name": "stdout",
     "output_type": "stream",
     "text": [
      "Requirement already satisfied: pandas in c:\\users\\gyxo0\\anaconda3\\lib\\site-packages (2.2.2)\n",
      "Requirement already satisfied: matplotlib in c:\\users\\gyxo0\\anaconda3\\lib\\site-packages (3.8.4)\n",
      "Requirement already satisfied: scikit-learn in c:\\users\\gyxo0\\anaconda3\\lib\\site-packages (1.4.2)\n",
      "Requirement already satisfied: numpy>=1.26.0 in c:\\users\\gyxo0\\anaconda3\\lib\\site-packages (from pandas) (1.26.4)\n",
      "Requirement already satisfied: python-dateutil>=2.8.2 in c:\\users\\gyxo0\\anaconda3\\lib\\site-packages (from pandas) (2.9.0.post0)\n",
      "Requirement already satisfied: pytz>=2020.1 in c:\\users\\gyxo0\\anaconda3\\lib\\site-packages (from pandas) (2024.1)\n",
      "Requirement already satisfied: tzdata>=2022.7 in c:\\users\\gyxo0\\anaconda3\\lib\\site-packages (from pandas) (2023.3)\n",
      "Requirement already satisfied: contourpy>=1.0.1 in c:\\users\\gyxo0\\anaconda3\\lib\\site-packages (from matplotlib) (1.2.0)\n",
      "Requirement already satisfied: cycler>=0.10 in c:\\users\\gyxo0\\anaconda3\\lib\\site-packages (from matplotlib) (0.11.0)\n",
      "Requirement already satisfied: fonttools>=4.22.0 in c:\\users\\gyxo0\\anaconda3\\lib\\site-packages (from matplotlib) (4.51.0)\n",
      "Requirement already satisfied: kiwisolver>=1.3.1 in c:\\users\\gyxo0\\anaconda3\\lib\\site-packages (from matplotlib) (1.4.4)\n",
      "Requirement already satisfied: packaging>=20.0 in c:\\users\\gyxo0\\anaconda3\\lib\\site-packages (from matplotlib) (23.2)\n",
      "Requirement already satisfied: pillow>=8 in c:\\users\\gyxo0\\anaconda3\\lib\\site-packages (from matplotlib) (10.3.0)\n",
      "Requirement already satisfied: pyparsing>=2.3.1 in c:\\users\\gyxo0\\anaconda3\\lib\\site-packages (from matplotlib) (3.0.9)\n",
      "Requirement already satisfied: scipy>=1.6.0 in c:\\users\\gyxo0\\anaconda3\\lib\\site-packages (from scikit-learn) (1.13.1)\n",
      "Requirement already satisfied: joblib>=1.2.0 in c:\\users\\gyxo0\\anaconda3\\lib\\site-packages (from scikit-learn) (1.4.2)\n",
      "Requirement already satisfied: threadpoolctl>=2.0.0 in c:\\users\\gyxo0\\anaconda3\\lib\\site-packages (from scikit-learn) (2.2.0)\n",
      "Requirement already satisfied: six>=1.5 in c:\\users\\gyxo0\\anaconda3\\lib\\site-packages (from python-dateutil>=2.8.2->pandas) (1.16.0)\n"
     ]
    }
   ],
   "source": [
    "!pip3 install pandas matplotlib scikit-learn"
   ]
  },
  {
   "cell_type": "markdown",
   "metadata": {
    "id": "iZzJkOj1ezLN"
   },
   "source": [
    "## 00-1. 라이브러리 import"
   ]
  },
  {
   "cell_type": "code",
   "execution_count": 2,
   "metadata": {
    "executionInfo": {
     "elapsed": 3,
     "status": "ok",
     "timestamp": 1728990725221,
     "user": {
      "displayName": "Hyun",
      "userId": "03455063530033146689"
     },
     "user_tz": -540
    },
    "id": "NUVh695PaW_A"
   },
   "outputs": [],
   "source": [
    "# PyTorch의 필수 모듈 import\n",
    "import torch\n",
    "from torch import nn, optim\n",
    "from torch.utils.data import DataLoader, Dataset\n",
    "\n",
    "# 데이터 분석, 수치 연산 및 시각화를 위한 라이브러리 import\n",
    "import pandas as pd\n",
    "import numpy as np\n",
    "import matplotlib.pyplot as plt\n",
    "\n",
    "# 데이터 분할 및 레이블 인코딩을 위한 sklearn 도구 import\n",
    "from sklearn.model_selection import train_test_split\n",
    "from sklearn.preprocessing import LabelEncoder\n",
    "\n",
    "# 텍스트 처리를 위한 정규 표현식과 단어 빈도 계산을 위한 Counter import\n",
    "import re\n",
    "from collections import Counter\n",
    "import random\n",
    "\n",
    "# nltk 라이브러리에서 PorterStemmer를 사용하여 단어를 어근으로 변환\n",
    "from nltk.stem import PorterStemmer"
   ]
  },
  {
   "cell_type": "markdown",
   "metadata": {
    "id": "PLyGEpaMe8vA"
   },
   "source": [
    "## 00-3. 학습 디바이스 정의"
   ]
  },
  {
   "cell_type": "code",
   "execution_count": 3,
   "metadata": {
    "colab": {
     "base_uri": "https://localhost:8080/"
    },
    "executionInfo": {
     "elapsed": 4,
     "status": "ok",
     "timestamp": 1728990725222,
     "user": {
      "displayName": "Hyun",
      "userId": "03455063530033146689"
     },
     "user_tz": -540
    },
    "id": "pNRFHY7yeaSl",
    "outputId": "8bebdf74-5047-4efb-c860-f446cdd194b1"
   },
   "outputs": [
    {
     "name": "stdout",
     "output_type": "stream",
     "text": [
      "Now using cuda.\n"
     ]
    }
   ],
   "source": [
    "# GPU 사용이 가능하면 'cuda', 그렇지 않으면 'cpu' 장치를 선택\n",
    "device = torch.device('cuda' if torch.cuda.is_available() else 'cpu')\n",
    "\n",
    "# 현재 사용 중인 장치를 출력\n",
    "print(f\"Now using {device}.\")"
   ]
  },
  {
   "cell_type": "markdown",
   "metadata": {
    "id": "ImR6mmLze_cO"
   },
   "source": [
    "# 01. 학습 준비"
   ]
  },
  {
   "cell_type": "markdown",
   "metadata": {
    "id": "lhi8y79_fZ7h"
   },
   "source": [
    "## 01-1. 데이터셋 로드"
   ]
  },
  {
   "cell_type": "code",
   "execution_count": 4,
   "metadata": {
    "colab": {
     "base_uri": "https://localhost:8080/"
    },
    "executionInfo": {
     "elapsed": 63499,
     "status": "ok",
     "timestamp": 1728990788718,
     "user": {
      "displayName": "Hyun",
      "userId": "03455063530033146689"
     },
     "user_tz": -540
    },
    "id": "nGFpDkE4zZvZ",
    "outputId": "fe393e3d-0531-4a0e-afd5-820abf6cccfe"
   },
   "outputs": [],
   "source": [
    "# Google Colab에서 Google Drive를 사용하기 위한 모듈 import\n",
    "#from google.colab import drive\n",
    "\n",
    "# Google Drive를 '/content/drive' 경로에 마운트\n",
    "#drive.mount('/content/drive')"
   ]
  },
  {
   "cell_type": "code",
   "execution_count": 5,
   "metadata": {
    "colab": {
     "base_uri": "https://localhost:8080/"
    },
    "executionInfo": {
     "elapsed": 5186,
     "status": "ok",
     "timestamp": 1728990793901,
     "user": {
      "displayName": "Hyun",
      "userId": "03455063530033146689"
     },
     "user_tz": -540
    },
    "id": "ldzjj-PFxkRn",
    "outputId": "3e439ffe-4bf1-4e4a-bd1d-ef718cc19e12"
   },
   "outputs": [
    {
     "name": "stdout",
     "output_type": "stream",
     "text": [
      "                                              review sentiment\n",
      "0  One of the other reviewers has mentioned that ...  positive\n",
      "1  A wonderful little production. <br /><br />The...  positive\n",
      "2  I thought this was a wonderful way to spend ti...  positive\n",
      "3  Basically there's a family where a little boy ...  negative\n",
      "4  Petter Mattei's \"Love in the Time of Money\" is...  positive\n"
     ]
    }
   ],
   "source": [
    "# 파일 경로를 본인의 환경에 맞게 설정 (Google Drive 경로 또는 로컬 경로)\n",
    "#file_path = '/content/drive/MyDrive/AI_security/HW2 - RNN 성능 향상/IMDB.csv'\n",
    "# 로컬 환경에서 사용할 경우 주석 처리된 경로 사용 가능\n",
    "file_path = './IMDB.csv'\n",
    "\n",
    "# 지정된 파일 경로에서 CSV 파일을 읽어 데이터프레임으로 저장\n",
    "df = pd.read_csv(file_path)\n",
    "\n",
    "# 데이터프레임의 상위 5개 행 출력\n",
    "print(df.head())"
   ]
  },
  {
   "cell_type": "markdown",
   "metadata": {
    "id": "z6Dxkg_9Str1"
   },
   "source": [
    "## 01-02. 데이터셋 전처리"
   ]
  },
  {
   "cell_type": "code",
   "execution_count": 6,
   "metadata": {
    "colab": {
     "base_uri": "https://localhost:8080/"
    },
    "executionInfo": {
     "elapsed": 20359,
     "status": "ok",
     "timestamp": 1728990814259,
     "user": {
      "displayName": "Hyun",
      "userId": "03455063530033146689"
     },
     "user_tz": -540
    },
    "id": "DuleFdo8xmJS",
    "outputId": "08feb776-c17c-40eb-8867-a427a13d92ca"
   },
   "outputs": [
    {
     "name": "stdout",
     "output_type": "stream",
     "text": [
      "Vocabulary Size: 35706\n"
     ]
    }
   ],
   "source": [
    "# 텍스트를 정리하는 함수 정의\n",
    "def text_cleaning(text):\n",
    "    text = re.sub(r'<[^>]+>', '', text)  # HTML 태그 제거\n",
    "    text = re.sub(r'[^a-zA-Z]', ' ', text)  # 알파벳이 아닌 문자 제거\n",
    "    text = text.lower()  # 소문자로 변환\n",
    "    text = text.split()  # 단어 단위로 분리\n",
    "    return ' '.join(text)  # 단어를 다시 하나의 문자열로 결합\n",
    "\n",
    "# 노이즈를 추가하는 함수 정의\n",
    "def add_noise(text):\n",
    "    noise_prob = 0.1  # 10% 확률로 노이즈 추가\n",
    "    # 텍스트에서 무작위로 문자 또는 공백을 추가하여 노이즈 생성\n",
    "    noisy_text = ''.join([char if random.random() > noise_prob else random.choice('abcdefghijklmnopqrstuvwxyz ') for char in text])\n",
    "    return noisy_text\n",
    "\n",
    "# 텍스트를 정규화하는 함수 정의\n",
    "def normalize_text(text):\n",
    "    text = text.lower()  # 소문자로 변환\n",
    "    text = re.sub(r'[^\\w\\s]', '', text)  # 구두점 제거\n",
    "    text = re.sub(r'\\s+', ' ', text)  # 여러 공백을 하나로 변환\n",
    "    return text\n",
    "\n",
    "# 데이터프레임의 'review' 열에 대해 텍스트 정리 함수 적용\n",
    "df['review'] = df['review'].apply(text_cleaning)\n",
    "\n",
    "# 'review' 열에 노이즈 추가\n",
    "noisy_reviews = df['review'].apply(add_noise)\n",
    "\n",
    "# 'review' 열에 정규화 적용\n",
    "normalized_reviews = df['review'].apply(normalize_text)\n",
    "\n",
    "# 원래 리뷰와 노이즈가 추가된 리뷰를 모두 결합\n",
    "all_reviews = df['review'].tolist() + noisy_reviews.tolist()\n",
    "\n",
    "# 각 데이터셋에 대해 동일한 라벨 사용\n",
    "all_labels = df['sentiment'].tolist() * 2\n",
    "\n",
    "# 감정(라벨)을 인코딩 (긍정, 부정 라벨을 숫자로 변환)\n",
    "label_encoder = LabelEncoder()\n",
    "df['sentiment'] = label_encoder.fit_transform(df['sentiment'])\n",
    "\n",
    "# 'review' 열을 다시 정규화\n",
    "df['review'] = df['review'].apply(normalize_text)\n",
    "\n",
    "# 텍스트와 라벨 준비 (리스트로 변환)\n",
    "text = df['review'].tolist()\n",
    "label = df['sentiment'].tolist()\n",
    "\n",
    "# 데이터셋을 훈련 및 테스트 세트로 분할 (80% 훈련, 20% 테스트)\n",
    "x_train, x_test, y_train, y_test = train_test_split(text, label, test_size=0.2, random_state=42, shuffle=True)\n",
    "\n",
    "# 어휘를 구축하는 함수 정의 (min_freq 이상 등장하는 단어만 포함)\n",
    "def build_vocab(data, min_freq=5):\n",
    "    counter = Counter()  # 단어의 빈도를 계산하기 위한 Counter 객체 생성\n",
    "\n",
    "    # 각 리뷰에서 단어를 분리하고 빈도 계산\n",
    "    for review in data:\n",
    "        words = review.split()\n",
    "        counter.update(words)\n",
    "\n",
    "    # 어휘 사전 생성, 처음에는 <unk> 토큰을 0번 인덱스로 추가\n",
    "    vocab = {'<unk>': 0}\n",
    "    index = 1\n",
    "\n",
    "    # 빈도가 min_freq 이상인 단어들을 어휘 사전에 추가\n",
    "    for word, count in counter.items():\n",
    "        if count >= min_freq:\n",
    "            vocab[word] = index\n",
    "            index += 1\n",
    "\n",
    "    return vocab\n",
    "\n",
    "# 훈련 데이터로부터 어휘 사전 구축\n",
    "vocab = build_vocab(x_train)\n",
    "\n",
    "# 어휘 크기 출력\n",
    "print(f\"Vocabulary Size: {len(vocab)}\")"
   ]
  },
  {
   "cell_type": "code",
   "execution_count": 7,
   "metadata": {
    "executionInfo": {
     "elapsed": 8339,
     "status": "ok",
     "timestamp": 1728990822596,
     "user": {
      "displayName": "Hyun",
      "userId": "03455063530033146689"
     },
     "user_tz": -540
    },
    "id": "tDyt1E170XTP"
   },
   "outputs": [],
   "source": [
    "# 평균 문장 길이를 계산하는 함수\n",
    "def get_avg_length(text_list):\n",
    "    if not text_list:\n",
    "        return 0\n",
    "    # 각 문장의 단어 수를 계산하여 평균을 구함\n",
    "    avg_length = sum(len(sentence.split()) for sentence in text_list) / len(text_list)\n",
    "    return int(avg_length)\n",
    "\n",
    "# 시퀀스를 패딩하는 함수 (고정된 길이로 맞추기)\n",
    "def pad_sequence(seq, max_length, pad_value=0):\n",
    "    # 시퀀스 길이가 max_length보다 짧으면 패딩을 추가하고, 길면 자름\n",
    "    return seq + [pad_value] * (max_length - len(seq)) if len(seq) < max_length else seq[:max_length]\n",
    "\n",
    "# 단어를 무작위로 섞는 함수\n",
    "def shuffle_words(text):\n",
    "    words = text.split()  # 텍스트를 단어로 분리\n",
    "    random.shuffle(words)  # 단어를 무작위로 섞음\n",
    "    return ' '.join(words)  # 다시 단어를 결합하여 문자열 반환\n",
    "\n",
    "# 불용어(stop words)를 제거하는 함수\n",
    "stop_words = set([\"the\", \"is\", \"in\", \"and\", \"to\", \"a\"])  # 필요한 경우 불용어 리스트 확장 가능\n",
    "\n",
    "def remove_stop_words(text):\n",
    "    # 불용어가 아닌 단어만 남기고 다시 결합하여 반환\n",
    "    return ' '.join(word for word in text.split() if word not in stop_words)\n",
    "\n",
    "# Stemming 함수 (PorterStemmer 사용 예시)\n",
    "stemmer = PorterStemmer()\n",
    "\n",
    "def stem_text(text):\n",
    "    # 각 단어에 대해 어근 추출을 수행하고 다시 결합하여 반환\n",
    "    return ' '.join(stemmer.stem(word) for word in text.split())\n",
    "\n",
    "# 텍스트를 인코딩하고 패딩하는 함수\n",
    "def text_encoding(text_list, vocab, max_length):\n",
    "    # 각 문장을 인코딩하고, 지정된 max_length로 패딩\n",
    "    encoded_padded_sequences = [\n",
    "        pad_sequence(\n",
    "            [vocab.get(word, vocab['<unk>']) for word in remove_stop_words(normalize_text(sentence)).split()],  # 단어를 어휘 사전에서 인코딩\n",
    "            max_length  # max_length로 패딩\n",
    "        )\n",
    "        for sentence in text_list\n",
    "    ]\n",
    "    return encoded_padded_sequences\n",
    "\n",
    "# 샘플 사용 예시\n",
    "max_length = 300  # 고정된 최대 길이 설정\n",
    "x_train = text_encoding(x_train, vocab, max_length)  # 훈련 데이터를 인코딩 및 패딩\n",
    "x_test = text_encoding(x_test, vocab, max_length)  # 테스트 데이터를 인코딩 및 패딩"
   ]
  },
  {
   "cell_type": "code",
   "execution_count": 8,
   "metadata": {
    "executionInfo": {
     "elapsed": 1026,
     "status": "ok",
     "timestamp": 1728990824924,
     "user": {
      "displayName": "Hyun",
      "userId": "03455063530033146689"
     },
     "user_tz": -540
    },
    "id": "I715TlRVjGto"
   },
   "outputs": [],
   "source": [
    "# IMDB 데이터셋을 위한 커스텀 Dataset 클래스 정의\n",
    "class IMDBDataset(Dataset):\n",
    "    def __init__(self, text_encoded, label):\n",
    "        # 인코딩된 텍스트 데이터와 라벨을 클래스 변수로 저장\n",
    "        self.text_encoded = text_encoded\n",
    "        self.label = label\n",
    "\n",
    "    # 데이터셋의 전체 길이를 반환하는 메서드\n",
    "    def __len__(self):\n",
    "        return len(self.label)\n",
    "\n",
    "    # 주어진 인덱스에 해당하는 데이터(리뷰와 라벨)를 반환하는 메서드\n",
    "    def __getitem__(self, idx):\n",
    "        review = self.text_encoded[idx]  # 인코딩된 리뷰 텍스트\n",
    "        label = self.label[idx]  # 감정 라벨 (긍정/부정)\n",
    "        return review, label\n",
    "\n",
    "# 훈련 데이터셋 생성 (리뷰와 라벨을 텐서로 변환하여 Dataset으로 만듦)\n",
    "train_dataset = IMDBDataset(torch.tensor(x_train), torch.tensor(y_train))\n",
    "\n",
    "# 훈련 데이터를 배치로 묶어주기 위해 DataLoader 사용, 배치 크기는 32, 데이터를 무작위로 섞음\n",
    "train_loader = DataLoader(train_dataset, batch_size=32, shuffle=True)\n",
    "\n",
    "# 테스트 데이터셋 생성\n",
    "test_dataset = IMDBDataset(torch.tensor(x_test), torch.tensor(y_test))\n",
    "\n",
    "# 테스트 데이터를 배치로 묶기 위해 DataLoader 사용\n",
    "test_loader = DataLoader(test_dataset, batch_size=32, shuffle=True)"
   ]
  },
  {
   "cell_type": "markdown",
   "metadata": {
    "id": "Ofe5mD3lTeTN"
   },
   "source": [
    "# 02. 모델 준비"
   ]
  },
  {
   "cell_type": "markdown",
   "metadata": {
    "id": "YCmxQsRcTgeT"
   },
   "source": [
    "## 02-01. RNN"
   ]
  },
  {
   "cell_type": "code",
   "execution_count": 9,
   "metadata": {
    "executionInfo": {
     "elapsed": 1,
     "status": "ok",
     "timestamp": 1728990824924,
     "user": {
      "displayName": "Hyun",
      "userId": "03455063530033146689"
     },
     "user_tz": -540
    },
    "id": "LIeECl_HXP93"
   },
   "outputs": [],
   "source": [
    "import torch.nn as nn\n",
    "import torch\n",
    "\n",
    "# RNN 모델 클래스 정의\n",
    "class RNNModel(nn.Module):\n",
    "    def __init__(self, input_dim, embedding_dim, hidden_dim, output_dim, num_layers=1, padding_idx=0):\n",
    "        super(RNNModel, self).__init__()\n",
    "\n",
    "        # 임베딩 레이어: 입력 차원(input_dim) 크기의 단어를 임베딩 차원(embedding_dim) 크기로 변환\n",
    "        # padding_idx는 패딩을 무시하는 역할\n",
    "        self.embedding = nn.Embedding(input_dim, embedding_dim, padding_idx=padding_idx)\n",
    "\n",
    "        # GRU 레이어: 임베딩된 입력을 GRU를 통해 처리\n",
    "        # embedding_dim: 입력 차원, hidden_dim: 은닉 상태 크기, num_layers: GRU 층 수\n",
    "        self.rnn = nn.GRU(embedding_dim, hidden_dim, num_layers=num_layers, batch_first=True)\n",
    "\n",
    "        # 출력 레이어: GRU의 마지막 은닉 상태를 출력 크기(output_dim)로 변환\n",
    "        self.fc = nn.Linear(hidden_dim, output_dim)\n",
    "\n",
    "        # 드롭아웃 레이어: 30% 드롭아웃 비율 적용\n",
    "        self.dropout = nn.Dropout(0.3)\n",
    "\n",
    "        # 모델 내부에서 사용할 num_layers와 padding_idx 저장\n",
    "        self.num_layers = num_layers\n",
    "        self.padding_idx = padding_idx\n",
    "\n",
    "    def forward(self, text):\n",
    "        # 입력 텍스트에서 패딩이 아닌 부분의 길이를 계산하고 CPU로 이동\n",
    "        lengths = (text != self.padding_idx).sum(dim=1).cpu()\n",
    "\n",
    "        # 텍스트를 임베딩하여 벡터로 변환\n",
    "        embedded = self.embedding(text)\n",
    "\n",
    "        # 패딩이 있는 시퀀스를 패킹하여 GRU에 전달 (정렬 강제 비활성화)\n",
    "        packed_embedded = nn.utils.rnn.pack_padded_sequence(embedded, lengths, batch_first=True, enforce_sorted=False)\n",
    "\n",
    "        # GRU를 통해 패킹된 입력을 처리, 은닉 상태(hidden) 반환\n",
    "        packed_output, hidden = self.rnn(packed_embedded)\n",
    "\n",
    "        # GRU의 마지막 레이어의 마지막 은닉 상태 가져오기\n",
    "        last_hidden = hidden[-1]\n",
    "\n",
    "        # 드롭아웃을 적용하고 fully connected layer에 전달\n",
    "        last_hidden = self.dropout(last_hidden)\n",
    "        output = self.fc(last_hidden)\n",
    "\n",
    "        # 최종 출력 반환\n",
    "        return output"
   ]
  },
  {
   "cell_type": "code",
   "execution_count": 10,
   "metadata": {
    "colab": {
     "base_uri": "https://localhost:8080/"
    },
    "executionInfo": {
     "elapsed": 2,
     "status": "ok",
     "timestamp": 1728990824925,
     "user": {
      "displayName": "Hyun",
      "userId": "03455063530033146689"
     },
     "user_tz": -540
    },
    "id": "HzKPT-30ZAZM",
    "outputId": "3798a977-9b6c-43e2-dc2b-70ad759d7a51"
   },
   "outputs": [
    {
     "data": {
      "text/plain": [
       "RNNModel(\n",
       "  (embedding): Embedding(35706, 300, padding_idx=0)\n",
       "  (rnn): GRU(300, 512, num_layers=2, batch_first=True)\n",
       "  (fc): Linear(in_features=512, out_features=1, bias=True)\n",
       "  (dropout): Dropout(p=0.3, inplace=False)\n",
       ")"
      ]
     },
     "execution_count": 10,
     "metadata": {},
     "output_type": "execute_result"
    }
   ],
   "source": [
    "# 어휘 사전의 크기 설정\n",
    "vocab_size = len(vocab)\n",
    "\n",
    "# 임베딩 차원 설정 (각 단어를 300차원 벡터로 변환)\n",
    "embed_size = 300\n",
    "\n",
    "# 은닉 상태의 크기 설정\n",
    "hidden_size = 512\n",
    "\n",
    "# 출력 크기 설정 (이진 분류이므로 1로 설정)\n",
    "output_size = 1\n",
    "\n",
    "# RNN 모델 인스턴스 생성\n",
    "# num_layers=2로 설정하여 두 개의 GRU 레이어 사용\n",
    "model = RNNModel(vocab_size, embed_size, hidden_size, output_size, num_layers=2).to(device)\n",
    "\n",
    "# 모델 구조 출력\n",
    "model"
   ]
  },
  {
   "cell_type": "markdown",
   "metadata": {
    "id": "Qt2reYWXTmWX"
   },
   "source": [
    "# 03. 모델 학습"
   ]
  },
  {
   "cell_type": "code",
   "execution_count": 11,
   "metadata": {
    "id": "RxD_DacsTun2"
   },
   "outputs": [
    {
     "name": "stdout",
     "output_type": "stream",
     "text": [
      "Epoch 1, Train Loss: 0.517, Validation Loss: 0.328, Validation Accuracy: 86.24%\n",
      "Epoch 2, Train Loss: 0.284, Validation Loss: 0.274, Validation Accuracy: 88.51%\n",
      "Epoch 3, Train Loss: 0.240, Validation Loss: 0.248, Validation Accuracy: 89.59%\n",
      "Epoch 4, Train Loss: 0.210, Validation Loss: 0.240, Validation Accuracy: 90.51%\n",
      "Epoch 5, Train Loss: 0.187, Validation Loss: 0.239, Validation Accuracy: 90.72%\n"
     ]
    }
   ],
   "source": [
    "# 훈련할 에폭 수 설정\n",
    "epochs = 5\n",
    "\n",
    "# 손실 함수 설정: 이진 분류에 적합한 BCEWithLogitsLoss 사용\n",
    "loss_fn = nn.BCEWithLogitsLoss()\n",
    "\n",
    "# 옵티마이저 설정: Adam 옵티마이저, 학습률 0.001, L2 정규화 사용\n",
    "optimizer = optim.Adam(model.parameters(), lr=0.001, weight_decay=1e-4)\n",
    "\n",
    "# 학습률 스케줄러 설정: validation loss가 개선되지 않을 경우 학습률 감소\n",
    "scheduler = optim.lr_scheduler.ReduceLROnPlateau(optimizer, factor=0.5, patience=3, min_lr=1e-6)\n",
    "\n",
    "# 모델 훈련 함수 정의\n",
    "def train(model, data_loader, optimizer, loss_fn):\n",
    "    model.train()  # 모델을 훈련 모드로 설정\n",
    "    total_loss = 0  # 총 손실 초기화\n",
    "    correct = 0  # 정확도 카운터 초기화\n",
    "\n",
    "    # 데이터 로더에서 배치별로 반복\n",
    "    for batch in data_loader:\n",
    "        text, label = batch  # 배치에서 텍스트와 라벨 추출\n",
    "        text = text.to(device)  # 텍스트를 지정된 디바이스로 이동\n",
    "        label = label.to(device)  # 라벨을 지정된 디바이스로 이동\n",
    "        label = label.unsqueeze(1).float()  # 라벨의 차원 추가 (배치 크기, 1로 변환)\n",
    "\n",
    "        optimizer.zero_grad()  # 그래디언트 초기화\n",
    "        output = model(text)  # 모델에 텍스트 입력하여 출력 계산\n",
    "        loss = loss_fn(output, label)  # 손실 계산\n",
    "        loss.backward()  # 그래디언트 계산\n",
    "        optimizer.step()  # 옵티마이저 업데이트\n",
    "\n",
    "        total_loss += loss.item()  # 총 손실 업데이트\n",
    "\n",
    "        # 예측값 계산\n",
    "        predictions = torch.round(torch.sigmoid(output))  # 시그모이드 함수를 통해 예측값 얻기\n",
    "        correct += (predictions == label).float().sum()  # 정확도 계산\n",
    "\n",
    "    average_loss = total_loss / len(data_loader)  # 평균 손실 계산\n",
    "    accuracy = correct / len(data_loader.dataset)  # 정확도 계산\n",
    "\n",
    "    return average_loss, accuracy  # 평균 손실과 정확도 반환\n",
    "\n",
    "# 모델 평가 함수 정의\n",
    "def evaluate(model, data_loader, loss_fn):\n",
    "    model.eval()  # 모델을 평가 모드로 설정\n",
    "    total_loss = 0  # 총 손실 초기화\n",
    "    correct = 0  # 정확도 카운터 초기화\n",
    "\n",
    "    with torch.no_grad():  # 그래디언트 계산 비활성화\n",
    "        for batch in data_loader:\n",
    "            text, label = batch  # 배치에서 텍스트와 라벨 추출\n",
    "            text = text.to(device)  # 텍스트를 지정된 디바이스로 이동\n",
    "            label = label.to(device)  # 라벨을 지정된 디바이스로 이동\n",
    "            label = label.unsqueeze(1).float()  # 라벨의 차원 추가 (배치 크기, 1로 변환)\n",
    "\n",
    "            output = model(text)  # 모델에 텍스트 입력하여 출력 계산\n",
    "            loss = loss_fn(output, label)  # 손실 계산\n",
    "            total_loss += loss.item()  # 총 손실 업데이트\n",
    "\n",
    "            predictions = torch.round(torch.sigmoid(output))  # 예측값 계산\n",
    "            correct += (predictions == label).float().sum()  # 정확도 계산\n",
    "\n",
    "    average_loss = total_loss / len(data_loader)  # 평균 손실 계산\n",
    "    accuracy = correct / len(data_loader.dataset)  # 정확도 계산\n",
    "\n",
    "    return average_loss, accuracy  # 평균 손실과 정확도 반환\n",
    "\n",
    "# 훈련 루프 초기화\n",
    "train_losses = []  # 훈련 손실 저장 리스트\n",
    "val_losses = []  # 검증 손실 저장 리스트\n",
    "val_accuracies = []  # 검증 정확도 저장 리스트\n",
    "\n",
    "# 에폭별로 훈련 및 평가 반복\n",
    "for epoch in range(epochs):\n",
    "    train_loss, train_acc = train(model, train_loader, optimizer, loss_fn)  # 모델 훈련\n",
    "    val_loss, val_acc = evaluate(model, test_loader, loss_fn)  # 모델 평가\n",
    "\n",
    "    # 학습률 스케줄러 업데이트\n",
    "    scheduler.step(val_loss)\n",
    "\n",
    "    # 에폭, 훈련 손실, 검증 손실, 검증 정확도 출력\n",
    "    print(f'Epoch {epoch+1}, Train Loss: {train_loss:.3f}, Validation Loss: {val_loss:.3f}, Validation Accuracy: {val_acc.item()*100:.2f}%')\n",
    "\n",
    "    # 손실 및 정확도 저장\n",
    "    train_losses.append(train_loss)  # 훈련 손실을 리스트에 추가\n",
    "    val_losses.append(val_loss)  # 검증 손실을 리스트에 추가\n",
    "    val_accuracies.append(val_acc.detach().cpu())  # CPU로 이동하여 저장"
   ]
  },
  {
   "cell_type": "markdown",
   "metadata": {
    "id": "aFi5Bq7VT8PP"
   },
   "source": [
    "# 05. 결과 시각화"
   ]
  },
  {
   "cell_type": "markdown",
   "metadata": {
    "id": "1sGyFfzHUBQr"
   },
   "source": [
    "## 05-01. 학습 결과"
   ]
  },
  {
   "cell_type": "code",
   "execution_count": 12,
   "metadata": {
    "id": "ZTjBp4skopIi"
   },
   "outputs": [
    {
     "data": {
      "image/png": "[encoded data removed]",
      "text/plain": [
       "<Figure size 1200x600 with 2 Axes>"
      ]
     },
     "metadata": {},
     "output_type": "display_data"
    }
   ],
   "source": [
    "# 손실 및 정확도 시각화를 위한 그래프 설정\n",
    "plt.figure(figsize=(12, 6))  # 전체 그림 크기 설정\n",
    "\n",
    "# 손실 그래프\n",
    "plt.subplot(1, 2, 1)  # 1행 2열의 첫 번째 서브플롯\n",
    "plt.plot(range(1, epochs + 1), train_losses, label='Train Loss')  # 훈련 손실 그래프\n",
    "plt.plot(range(1, epochs + 1), val_losses, label='Validation Loss')  # 검증 손실 그래프\n",
    "plt.xlabel('Epochs')  # x축 레이블 설정\n",
    "plt.ylabel('Loss')  # y축 레이블 설정\n",
    "plt.legend()  # 범례 표시\n",
    "\n",
    "# 정확도 그래프\n",
    "plt.subplot(1, 2, 2)  # 1행 2열의 두 번째 서브플롯\n",
    "plt.plot(range(1, epochs + 1), val_accuracies, label='Validation Accuracy')  # 검증 정확도 그래프\n",
    "plt.xlabel('Epochs')  # x축 레이블 설정\n",
    "plt.ylabel('Accuracy')  # y축 레이블 설정\n",
    "plt.legend()  # 범례 표시\n",
    "\n",
    "# 그래프 출력\n",
    "plt.show()  # 시각화된 그래프 표시"
   ]
  }
 ],
 "metadata": {
  "accelerator": "GPU",
  "colab": {
   "gpuType": "A100",
   "machine_shape": "hm",
   "provenance": []
  },
  "kernelspec": {
   "display_name": "Python 3 (ipykernel)",
   "language": "python",
   "name": "python3"
  },
  "language_info": {
   "codemirror_mode": {
    "name": "ipython",
    "version": 3
   },
   "file_extension": ".py",
   "mimetype": "text/x-python",
   "name": "python",
   "nbconvert_exporter": "python",
   "pygments_lexer": "ipython3",
   "version": "3.12.4"
  }
 },
 "nbformat": 4,
 "nbformat_minor": 4
}
